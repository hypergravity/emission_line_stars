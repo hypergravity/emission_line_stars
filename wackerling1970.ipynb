{
 "cells": [
  {
   "cell_type": "markdown",
   "metadata": {},
   "source": [
    "# Searching for DIBs in Wackerling 1970 catalog"
   ]
  },
  {
   "cell_type": "code",
   "execution_count": 56,
   "metadata": {
    "collapsed": false
   },
   "outputs": [
    {
     "name": "stdout",
     "output_type": "stream",
     "text": [
      "Populating the interactive namespace from numpy and matplotlib\n"
     ]
    }
   ],
   "source": [
    "%pylab inline\n",
    "import os\n",
    "os.chdir('/pool/TAP/Xinglong216/emission_line_stars/code')\n",
    "\n",
    "from astropy.table import Table,Column\n",
    "from astroML.stats import binned_statistic_2d\n",
    "import astropy.units as u"
   ]
  },
  {
   "cell_type": "code",
   "execution_count": 63,
   "metadata": {
    "collapsed": false
   },
   "outputs": [
    {
     "data": {
      "text/plain": [
       "80"
      ]
     },
     "execution_count": 63,
     "metadata": {},
     "output_type": "execute_result"
    }
   ],
   "source": [
    "# W1970 x USNO-B1.0 x 2MASS x SIMBAD\n",
    "t = Table.read('../data/w1970xUSNOB1x2MASSxSIMBAD.fits')\n",
    "# B mag valid\n",
    "ind_photo = np.all([t['Bmag_usnob1']>0., t['Rmag_usnob1']>0.], axis=0)\n",
    "# R mag between 4.0 and 6.5\n",
    "ind_bright = np.all([t['Rmag_usnob1']<6.5, t['Rmag_usnob1']>4.], axis=0)\n",
    "# sky position RA in [60 330] & Dec in [0 90]\n",
    "ind_observable = np.all([t['_RAJ2000']>0., t['_RAJ2000']<330, t['_DEJ2000']>0.], axis=0)\n",
    "\n",
    "ind_targeted = np.all([ind_photo, ind_bright, ind_observable], axis=0)\n",
    "\n",
    "sum(ind_targeted)"
   ]
  },
  {
   "cell_type": "markdown",
   "metadata": {},
   "source": [
    "## calculate observation time\n",
    "\n",
    "Magnitude | Exposure Time | Overhead | Number of Stars | Total Exposure\n",
    "-|-|-|-|-\n",
    "(mag)|(min)|(min)|-|(min)\n",
    "6.5-6|20|10|22|660\n",
    "6-5|10|10|22|440\n",
    "5-4|5|10|14|210\n",
    "-|-|*Total*|58|1310\n"
   ]
  },
  {
   "cell_type": "code",
   "execution_count": 64,
   "metadata": {
    "collapsed": false
   },
   "outputs": [],
   "source": [
    "# add tobs (exposure time for each targeted star)\n",
    "t_obs = np.all([t['Rmag_usnob1']>=6.,t['Rmag_usnob1']<7.], axis=0)*20. \\\n",
    "    + np.all([t['Rmag_usnob1']>=5.,t['Rmag_usnob1']<6.], axis=0)*10. \\\n",
    "    + np.all([t['Rmag_usnob1']>=4.,t['Rmag_usnob1']<5.], axis=0)*5.\n",
    "t.add_column(Column(data=t_obs,name='tobs',unit=u.min))"
   ]
  },
  {
   "cell_type": "markdown",
   "metadata": {},
   "source": [
    "## Figure : CMD & RA-Dec"
   ]
  },
  {
   "cell_type": "code",
   "execution_count": 65,
   "metadata": {
    "collapsed": false
   },
   "outputs": [
    {
     "data": {
      "image/png": "[encoded data removed]",
      "text/plain": [
       "<matplotlib.figure.Figure at 0x7fe20be2e950>"
      ]
     },
     "metadata": {},
     "output_type": "display_data"
    }
   ],
   "source": [
    "cmap = plt.cm.gray_r\n",
    "#cmap.set_bad('w', 0.)\n",
    "\n",
    "fig = figure(figsize=(10,4));\n",
    "ind_nonnan = np.logical_not(np.any([np.isnan(t['Bmag_usnob1']), np.isnan(t['Rmag_usnob1'])],axis=0))\n",
    "#-------------------------------------------------------------------\n",
    "# axes 1\n",
    "ax1 = fig.add_subplot(131)\n",
    "N, xedges, yedges = binned_statistic_2d(t['Bmag_usnob1'][ind_nonnan]-t['Rmag_usnob1'][ind_nonnan], \n",
    "                                        t['Rmag_usnob1'][ind_nonnan], \n",
    "                                        t['Rmag_usnob1'][ind_nonnan], \n",
    "                                        'count', bins=[100,80])\n",
    "plt.imshow(np.log10(N.T), origin='lower',\n",
    "           extent=[xedges[0], xedges[-1], yedges[0], yedges[-1]],\n",
    "           aspect='auto', interpolation='nearest', cmap=cmap)\n",
    "\n",
    "ax1.plot(t['Bmag_usnob1'][ind_targeted]-t['Rmag_usnob1'][ind_targeted], t['Rmag_usnob1'][ind_targeted], 'rx', ms=3)\n",
    "ax1.set_xlim(-2., 4.)\n",
    "ax1.set_ylim(14., 0.)\n",
    "ax1.set_xlabel('B - R (mag)')\n",
    "ax1.set_ylabel('R (mag)')\n",
    "\n",
    "ax1.plot([-1., 3.], [ 4., 4.], 'b--')\n",
    "ax1.plot([-1., 3.], [ 6.5, 6.5], 'b--')\n",
    "\n",
    "#-------------------------------------------------------------------\n",
    "# axes 2\n",
    "ax2 = fig.add_subplot(1,3,(2,3))\n",
    "N, xedges, yedges = binned_statistic_2d(t['_RAJ2000'], \n",
    "                                        t['_DEJ2000'], \n",
    "                                        t['_DEJ2000'], \n",
    "                                        'count', bins=[100,80])\n",
    "#ax2.plot(t['_RAJ2000'], t['_DEJ2000'], 'k.', ms=1.5)\n",
    "ax2.imshow(np.log10(N.T), origin='lower',\n",
    "           extent=[xedges[0], xedges[-1], yedges[0], yedges[-1]],\n",
    "           aspect='auto', interpolation='nearest', cmap=cmap)\n",
    "\n",
    "ax2.plot(t['_RAJ2000'][ind_targeted], t['_DEJ2000'][ind_targeted], 'rx', ms=3)\n",
    "ax2.set_xlim(360., 0.)\n",
    "ax2.set_ylim(-90., 90.)\n",
    "ax2.set_xticks(np.arange(0., 390., 30.))\n",
    "ax2.set_yticks(np.arange(-90., 120., 30.))\n",
    "ax2.set_xlabel('RAJ2000 (deg)')\n",
    "ax2.set_ylabel('DEJ2000 (deg)')\n",
    "\n",
    "\n",
    "ax2.plot([60., 60., 330., 330.],\n",
    "         [90.,  0.,   0.,  90.],\n",
    "         'b--')\n",
    "#-------------------------------------------------------------------\n",
    "# save figure\n",
    "fig.tight_layout()\n",
    "fig.savefig('../figs/w1970.cmd.eps')\n",
    "fig.savefig('../figs/w1970.cmd.pdf')"
   ]
  },
  {
   "cell_type": "code",
   "execution_count": 59,
   "metadata": {
    "collapsed": false
   },
   "outputs": [
    {
     "data": {
      "text/plain": [
       "['_RAJ2000',\n",
       " '_DEJ2000',\n",
       " 'Seq',\n",
       " 'Name',\n",
       " 'u_Name',\n",
       " 'ID_Codes',\n",
       " 'HD',\n",
       " 'm_HD',\n",
       " 'DM',\n",
       " 'm_DM',\n",
       " 'MWC',\n",
       " 'u_MWC',\n",
       " 'HPC',\n",
       " 'u_HPC',\n",
       " 'Ton',\n",
       " 'LS',\n",
       " 'm_LS',\n",
       " 'Wray',\n",
       " 'u_Wray',\n",
       " 'Henize',\n",
       " 'u_Henize',\n",
       " 'RAB1950',\n",
       " 'DEB1950',\n",
       " 'PrecDec',\n",
       " 'GLON',\n",
       " 'GLAT',\n",
       " 'SpType',\n",
       " 'Vmag',\n",
       " 'n_Vmag',\n",
       " 'Bmag',\n",
       " 'n_Bmag',\n",
       " '_RA_icrs',\n",
       " '_DE_icrs',\n",
       " 'observable',\n",
       " 'GAL_LONG',\n",
       " 'GAL_LAT',\n",
       " 'USNO-B1.0',\n",
       " 'RAJ2000_usnob1',\n",
       " 'DEJ2000_usnob1',\n",
       " 'errHalfMaj_usnob1',\n",
       " 'errHalfMin_usnob1',\n",
       " 'errPosAng_usnob1',\n",
       " 'Bmag1',\n",
       " 'Rmag1',\n",
       " 'Bmag2',\n",
       " 'Rmag2',\n",
       " 'Imag',\n",
       " 'Bmag_usnob1',\n",
       " 'Rmag_usnob1',\n",
       " 'Epoch',\n",
       " 'pmRA_usnob1',\n",
       " 'pmDE_usnob1',\n",
       " 'e_pmRA',\n",
       " 'e_pmDE',\n",
       " 'Flags',\n",
       " 'B1s/g',\n",
       " 'R1s/g',\n",
       " 'B2s/g',\n",
       " 'R2s/g',\n",
       " 'Is/g',\n",
       " 'angDist_usnob1',\n",
       " '2MASS',\n",
       " 'RAJ2000_2mass',\n",
       " 'DEJ2000_2mass',\n",
       " 'errHalfMaj_2mass',\n",
       " 'errHalfMin_2mass',\n",
       " 'errPosAng_2mass',\n",
       " 'Jmag',\n",
       " 'Hmag',\n",
       " 'Kmag',\n",
       " 'e_Jmag',\n",
       " 'e_Hmag',\n",
       " 'e_Kmag',\n",
       " 'Qfl',\n",
       " 'Rfl',\n",
       " 'X',\n",
       " 'MeasureJD',\n",
       " 'angDist_2mass',\n",
       " 'main_id',\n",
       " 'ra',\n",
       " 'dec',\n",
       " 'errHalfMaj_simbad',\n",
       " 'errHalfMin_simbad',\n",
       " 'errPosAng_simbad',\n",
       " 'B',\n",
       " 'V',\n",
       " 'R',\n",
       " 'J',\n",
       " 'H',\n",
       " 'K',\n",
       " 'otype',\n",
       " 'pmra_simbad',\n",
       " 'pmde_simbad',\n",
       " 'sp_type',\n",
       " 'biblist',\n",
       " 'angDist_simbad']"
      ]
     },
     "execution_count": 59,
     "metadata": {},
     "output_type": "execute_result"
    }
   ],
   "source": [
    "t.colnames"
   ]
  },
  {
   "cell_type": "code",
   "execution_count": 49,
   "metadata": {
    "collapsed": false
   },
   "outputs": [
    {
     "name": "stdout",
     "output_type": "stream",
     "text": [
      "The numbers of stars in each Rmag bin:---------------------------\n",
      "[ 0 22 22 14  0  0  0]\n",
      "Total exposure time (min):---------------------------------------\n",
      "[   0.  660.  440.  210.    0.    0.    0.]\n",
      "1310.0\n",
      "Total exposure time (day):---------------------------------------\n",
      "2.72916666667\n"
     ]
    }
   ],
   "source": [
    "# Exposure time\n",
    "num =  np.array([np.sum(np.all([t['Rmag_usnob1']>=7.,t['Rmag_usnob1']<8.,ind_targeted], axis=0)),\n",
    "                 np.sum(np.all([t['Rmag_usnob1']>=6.,t['Rmag_usnob1']<7.,ind_targeted], axis=0)),\n",
    "                 np.sum(np.all([t['Rmag_usnob1']>=5.,t['Rmag_usnob1']<6.,ind_targeted], axis=0)),\n",
    "                 np.sum(np.all([t['Rmag_usnob1']>=4.,t['Rmag_usnob1']<5.,ind_targeted], axis=0)),\n",
    "                 np.sum(np.all([t['Rmag_usnob1']>=3.,t['Rmag_usnob1']<4.,ind_targeted], axis=0)),\n",
    "                 np.sum(np.all([t['Rmag_usnob1']>=2.,t['Rmag_usnob1']<3.,ind_targeted], axis=0)),\n",
    "                 np.sum(np.all([t['Rmag_usnob1']>=1.,t['Rmag_usnob1']<2.,ind_targeted], axis=0))])\n",
    "print 'The numbers of stars in each Rmag bin:---------------------------'\n",
    "print num\n",
    "print 'Total exposure time (min):---------------------------------------'\n",
    "print num*(np.array([40., 20., 10., 5., 2., 1., 0.5])+10.)\n",
    "print np.sum(num*(np.array([40., 20., 10., 5., 2., 1., 0.5])+10.))\n",
    "print 'Total exposure time (day):---------------------------------------'\n",
    "print np.sum(num*(np.array([40., 20., 10., 5., 2., 1., 0.5])+10.))/60/8"
   ]
  },
  {
   "cell_type": "code",
   "execution_count": 67,
   "metadata": {
    "collapsed": false
   },
   "outputs": [],
   "source": [
    "# full version of targeted 58 stars\n",
    "tt = t[ind_targeted]\n",
    "tt.sort('RAJ2000_2mass')\n",
    "tt.add_column(Column(np.arange(1,np.sum(ind_targeted)+1,1),name='id'),0)\n",
    "tt.write('../data/w1970.targeted.fits',overwrite=True)\n",
    "tt.write('../data/w1970.targeted.csv')\n",
    "tt.write('../data/w1970.targeted.tex',format='latex')\n",
    "\n",
    "# simple version\n",
    "tt = t['MWC','Name','otype',\\\n",
    "       'RAJ2000_2mass','DEJ2000_2mass',\\\n",
    "       'RAB1950','DEB1950',\\\n",
    "       'Bmag_usnob1','Rmag_usnob1', 'tobs'][ind_targeted]\n",
    "tt.sort('RAJ2000_2mass')\n",
    "tt.add_column(Column(np.arange(1,np.sum(ind_targeted)+1,1),name='id'),0)\n",
    "tt.write('../data/w1970.targeted.simple.fits',overwrite=True)\n",
    "tt.write('../data/w1970.targeted.simple.csv')\n",
    "tt.write('../data/w1970.targeted.simple.tex',format='latex')\n"
   ]
  },
  {
   "cell_type": "code",
   "execution_count": 68,
   "metadata": {
    "collapsed": false
   },
   "outputs": [
    {
     "data": {
      "text/html": [
       "&lt;Table masked=True length=80&gt;\n",
       "<table id=\"table140608788907792\">\n",
       "<thead><tr><th>id</th><th>MWC</th><th>Name</th><th>otype</th><th>RAJ2000_2mass</th><th>DEJ2000_2mass</th><th>RAB1950</th><th>DEB1950</th><th>Bmag_usnob1</th><th>Rmag_usnob1</th><th>tobs</th></tr></thead>\n",
       "<thead><tr><th></th><th></th><th></th><th></th><th>deg</th><th>deg</th><th>&quot;h:m:s&quot;</th><th>&quot;d:m:s&quot;</th><th>mag</th><th>mag</th><th>min</th></tr></thead>\n",
       "<thead><tr><th>int64</th><th>str5</th><th>str9</th><th>str19</th><th>float64</th><th>float64</th><th>str8</th><th>str8</th><th>float32</th><th>float32</th><th>float64</th></tr></thead>\n",
       "<tr><td>1</td><td>408</td><td>HR  9097</td><td>BlueSG**</td><td>0.857155</td><td>63.640488</td><td>00 00 51</td><td>+63 21.8</td><td>6.47</td><td>6.13</td><td>20.0</td></tr>\n",
       "<tr><td>2</td><td>2</td><td>10   CAS</td><td>Be*</td><td>1.610423</td><td>64.196182</td><td>00 03 50</td><td>+63 55.1</td><td>5.52</td><td>5.57</td><td>10.0</td></tr>\n",
       "<tr><td>3</td><td>7</td><td>KAP   CAS</td><td>BlueSG**</td><td>8.250018</td><td>62.931725</td><td>00 30 08</td><td>+62 39.4</td><td>4.24</td><td>4.12</td><td>5.0</td></tr>\n",
       "<tr><td>4</td><td>8</td><td>OMI   CAS</td><td>Be*</td><td>11.181301</td><td>48.284374</td><td>00 41 56</td><td>+48 00.7</td><td>4.395</td><td>4.495</td><td>5.0</td></tr>\n",
       "<tr><td>5</td><td>420</td><td>PHI   AND</td><td>Star</td><td>17.375591</td><td>47.241756</td><td>01 06 35</td><td>+46 58.5</td><td>4.2</td><td>4.32</td><td>5.0</td></tr>\n",
       "<tr><td>6</td><td></td><td></td><td>Em*</td><td>24.779774</td><td>61.079102</td><td>01 35 44</td><td>+60 49.5</td><td>7.59</td><td>6.425</td><td>20.0</td></tr>\n",
       "<tr><td>7</td><td>16</td><td>PHI   PER</td><td>Be*</td><td>25.915193</td><td>50.688694</td><td>01 40 31</td><td>+50 26.3</td><td>3.89</td><td>4.065</td><td>5.0</td></tr>\n",
       "<tr><td>8</td><td>436</td><td>HR   618</td><td>RSG*</td><td>32.169295</td><td>58.423538</td><td>02 05 10</td><td>+58 11.2</td><td>6.135</td><td>5.405</td><td>10.0</td></tr>\n",
       "<tr><td>9</td><td>31</td><td>HR   654</td><td>BlueSG**</td><td>34.215535</td><td>57.055229</td><td>02 13 21</td><td>+56 49.4</td><td>6.66</td><td>6.395</td><td>20.0</td></tr>\n",
       "<tr><td>...</td><td>...</td><td>...</td><td>...</td><td>...</td><td>...</td><td>...</td><td>...</td><td>...</td><td>...</td><td>...</td></tr>\n",
       "<tr><td>71</td><td></td><td>HR  8023</td><td>SB</td><td>314.144884</td><td>44.924709</td><td>20 54 49</td><td>+44 43.9</td><td>5.97</td><td>5.95</td><td>10.0</td></tr>\n",
       "<tr><td>72</td><td>359</td><td>V832  CYG</td><td>Be*</td><td>314.956439</td><td>47.520874</td><td>20 58 07</td><td>+47 19.5</td><td>4.625</td><td>4.78</td><td>5.0</td></tr>\n",
       "<tr><td>73</td><td>365</td><td>HR  8153</td><td>**</td><td>319.328277</td><td>58.611488</td><td>21 15 56</td><td>+58 24.1</td><td>6.555</td><td>6.345</td><td>20.0</td></tr>\n",
       "<tr><td>74</td><td>364</td><td>UPS   CYG</td><td>Be*</td><td>319.479472</td><td>34.896851</td><td>21 15 52</td><td>+34 41.2</td><td>4.23</td><td>4.42</td><td>5.0</td></tr>\n",
       "<tr><td>75</td><td></td><td>68   CYG</td><td>SB</td><td>319.613269</td><td>43.945934</td><td>21 16 35</td><td>+43 44.1</td><td>4.94</td><td>5.06</td><td>10.0</td></tr>\n",
       "<tr><td>76</td><td>367</td><td>6   CEP</td><td>Be*</td><td>319.842403</td><td>64.871841</td><td>21 18 20</td><td>+64 39.6</td><td>5.095</td><td>5.195</td><td>10.0</td></tr>\n",
       "<tr><td>77</td><td>641</td><td>HR  8259</td><td>Be*</td><td>323.614424</td><td>51.698475</td><td>21 32 44</td><td>+51 28.5</td><td>6.12</td><td>6.17</td><td>20.0</td></tr>\n",
       "<tr><td>78</td><td></td><td>HR  8281</td><td>**</td><td>324.740029</td><td>57.48904</td><td>21 37 25</td><td>+57 15.7</td><td>5.845</td><td>5.625</td><td>10.0</td></tr>\n",
       "<tr><td>79</td><td>644</td><td>16   PEG</td><td>Be*</td><td>328.265727</td><td>25.925137</td><td>21 50 47</td><td>+25 41.3</td><td>4.87</td><td>5.145</td><td>10.0</td></tr>\n",
       "<tr><td>80</td><td>381</td><td>HR  8375</td><td>Be*</td><td>328.878924</td><td>65.320763</td><td>21 54 12</td><td>+65 05.0</td><td>5.895</td><td>6.05</td><td>20.0</td></tr>\n",
       "</table>"
      ],
      "text/plain": [
       "<Table masked=True length=80>\n",
       "  id   MWC     Name          otype        ... Bmag_usnob1 Rmag_usnob1   tobs \n",
       "                                          ...     mag         mag       min  \n",
       "int64  str5    str9          str19        ...   float32     float32   float64\n",
       "----- ----- --------- ------------------- ... ----------- ----------- -------\n",
       "    1   408  HR  9097 BlueSG**            ...        6.47        6.13    20.0\n",
       "    2     2  10   CAS Be*                 ...        5.52        5.57    10.0\n",
       "    3     7 KAP   CAS BlueSG**            ...        4.24        4.12     5.0\n",
       "    4     8 OMI   CAS Be*                 ...       4.395       4.495     5.0\n",
       "    5   420 PHI   AND Star                ...         4.2        4.32     5.0\n",
       "    6                 Em*                 ...        7.59       6.425    20.0\n",
       "    7    16 PHI   PER Be*                 ...        3.89       4.065     5.0\n",
       "    8   436  HR   618 RSG*                ...       6.135       5.405    10.0\n",
       "    9    31  HR   654 BlueSG**            ...        6.66       6.395    20.0\n",
       "  ...   ...       ...                 ... ...         ...         ...     ...\n",
       "   71        HR  8023 SB                  ...        5.97        5.95    10.0\n",
       "   72   359 V832  CYG Be*                 ...       4.625        4.78     5.0\n",
       "   73   365  HR  8153 **                  ...       6.555       6.345    20.0\n",
       "   74   364 UPS   CYG Be*                 ...        4.23        4.42     5.0\n",
       "   75        68   CYG SB                  ...        4.94        5.06    10.0\n",
       "   76   367   6   CEP Be*                 ...       5.095       5.195    10.0\n",
       "   77   641  HR  8259 Be*                 ...        6.12        6.17    20.0\n",
       "   78        HR  8281 **                  ...       5.845       5.625    10.0\n",
       "   79   644  16   PEG Be*                 ...        4.87       5.145    10.0\n",
       "   80   381  HR  8375 Be*                 ...       5.895        6.05    20.0"
      ]
     },
     "execution_count": 68,
     "metadata": {},
     "output_type": "execute_result"
    }
   ],
   "source": [
    "tt\n",
    "# tt.colnames"
   ]
  },
  {
   "cell_type": "code",
   "execution_count": null,
   "metadata": {
    "collapsed": true
   },
   "outputs": [],
   "source": []
  },
  {
   "cell_type": "code",
   "execution_count": null,
   "metadata": {
    "collapsed": true
   },
   "outputs": [],
   "source": []
  },
  {
   "cell_type": "code",
   "execution_count": null,
   "metadata": {
    "collapsed": true
   },
   "outputs": [],
   "source": []
  }
 ],
 "metadata": {
  "kernelspec": {
   "display_name": "Python 2",
   "language": "python",
   "name": "python2"
  },
  "language_info": {
   "codemirror_mode": {
    "name": "ipython",
    "version": 2
   },
   "file_extension": ".py",
   "mimetype": "text/x-python",
   "name": "python",
   "nbconvert_exporter": "python",
   "pygments_lexer": "ipython2",
   "version": "2.7.6"
  }
 },
 "nbformat": 4,
 "nbformat_minor": 0
}
